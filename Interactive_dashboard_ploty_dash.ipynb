{
 "cells": [
  {
   "cell_type": "markdown",
   "id": "b5d08064",
   "metadata": {},
   "source": [
    "# Build an Interactive Dashboard with Ploty Dash"
   ]
  },
  {
   "cell_type": "code",
   "execution_count": 3,
   "id": "1000a7b3",
   "metadata": {},
   "outputs": [],
   "source": [
    "# Import required libraries\n",
    "import wget\n",
    "import pandas as pd\n",
    "import dash\n",
    "from dash import html\n",
    "import dash_core_components as dcc\n",
    "from dash import dcc\n",
    "import plotly.express as px"
   ]
  },
  {
   "cell_type": "code",
   "execution_count": 7,
   "id": "a962db0c",
   "metadata": {},
   "outputs": [
    {
     "name": "stdout",
     "output_type": "stream",
     "text": [
      "\r",
      "  0% [                                                                                ]    0 / 2476\r",
      "100% [................................................................................] 2476 / 2476"
     ]
    }
   ],
   "source": [
    "spacex_csv_file = wget.download(\"https://cf-courses-data.s3.us.cloud-object-storage.appdomain.cloud/IBM-DS0321EN-SkillsNetwork/datasets/spacex_launch_dash.csv\")\n",
    "spacex_df = pd.read_csv(\"spacex_launch_dash.csv\")"
   ]
  },
  {
   "cell_type": "code",
   "execution_count": 8,
   "id": "1958dae3",
   "metadata": {},
   "outputs": [
    {
     "name": "stdout",
     "output_type": "stream",
     "text": [
      "Dash is running on http://127.0.0.1:8050/\n",
      "\n",
      " * Serving Flask app \"__main__\" (lazy loading)\n",
      " * Environment: production\n",
      "\u001b[31m   WARNING: This is a development server. Do not use it in a production deployment.\u001b[0m\n",
      "\u001b[2m   Use a production WSGI server instead.\u001b[0m\n",
      " * Debug mode: off\n"
     ]
    },
    {
     "name": "stderr",
     "output_type": "stream",
     "text": [
      " * Running on http://127.0.0.1:8050/ (Press CTRL+C to quit)\n",
      "127.0.0.1 - - [01/Sep/2022 15:11:12] \"GET / HTTP/1.1\" 200 -\n",
      "127.0.0.1 - - [01/Sep/2022 15:11:13] \"GET /_dash-component-suites/dash/deps/react-dom@16.v2_6_1m1659977240.14.0.min.js HTTP/1.1\" 200 -\n",
      "127.0.0.1 - - [01/Sep/2022 15:11:13] \"GET /_dash-component-suites/dash/deps/polyfill@7.v2_6_1m1659977240.12.1.min.js HTTP/1.1\" 200 -\n",
      "127.0.0.1 - - [01/Sep/2022 15:11:13] \"GET /_dash-component-suites/dash/deps/react@16.v2_6_1m1659977240.14.0.min.js HTTP/1.1\" 200 -\n",
      "127.0.0.1 - - [01/Sep/2022 15:11:13] \"GET /_dash-component-suites/dash/deps/prop-types@15.v2_6_1m1659977240.8.1.min.js HTTP/1.1\" 200 -\n",
      "127.0.0.1 - - [01/Sep/2022 15:11:13] \"GET /_dash-component-suites/dash/dash-renderer/build/dash_renderer.v2_6_1m1659977240.min.js HTTP/1.1\" 200 -\n",
      "127.0.0.1 - - [01/Sep/2022 15:11:13] \"GET /_dash-component-suites/dash/dcc/dash_core_components-shared.v2_6_1m1659977240.js HTTP/1.1\" 200 -\n",
      "127.0.0.1 - - [01/Sep/2022 15:11:13] \"GET /_dash-component-suites/dash/dcc/dash_core_components.v2_6_1m1659977240.js HTTP/1.1\" 200 -\n",
      "127.0.0.1 - - [01/Sep/2022 15:11:14] \"GET /_dash-component-suites/dash/html/dash_html_components.v2_0_5m1659977240.min.js HTTP/1.1\" 200 -\n",
      "127.0.0.1 - - [01/Sep/2022 15:11:14] \"GET /_dash-component-suites/dash/dash_table/bundle.v5_1_5m1659977240.js HTTP/1.1\" 200 -\n",
      "127.0.0.1 - - [01/Sep/2022 15:11:14] \"GET /_dash-layout HTTP/1.1\" 200 -\n",
      "127.0.0.1 - - [01/Sep/2022 15:11:14] \"GET /_dash-dependencies HTTP/1.1\" 200 -\n",
      "127.0.0.1 - - [01/Sep/2022 15:11:14] \"GET /_favicon.ico?v=2.6.1 HTTP/1.1\" 200 -\n",
      "127.0.0.1 - - [01/Sep/2022 15:11:15] \"GET /_dash-component-suites/dash/dcc/async-graph.js HTTP/1.1\" 200 -\n",
      "127.0.0.1 - - [01/Sep/2022 15:11:15] \"GET /_dash-component-suites/dash/dcc/async-dropdown.js HTTP/1.1\" 200 -\n",
      "C:\\Users\\Usuario\\AppData\\Local\\Temp/ipykernel_1056/760545927.py:72: UserWarning:\n",
      "\n",
      "Boolean Series key will be reindexed to match DataFrame index.\n",
      "\n",
      "127.0.0.1 - - [01/Sep/2022 15:11:15] \"GET /_dash-component-suites/dash/dcc/async-plotlyjs.js HTTP/1.1\" 200 -\n",
      "127.0.0.1 - - [01/Sep/2022 15:11:15] \"GET /_dash-component-suites/dash/dcc/async-slider.js HTTP/1.1\" 200 -\n",
      "127.0.0.1 - - [01/Sep/2022 15:11:18] \"POST /_dash-update-component HTTP/1.1\" 200 -\n",
      "127.0.0.1 - - [01/Sep/2022 15:11:18] \"POST /_dash-update-component HTTP/1.1\" 200 -\n",
      "C:\\Users\\Usuario\\AppData\\Local\\Temp/ipykernel_1056/760545927.py:72: UserWarning:\n",
      "\n",
      "Boolean Series key will be reindexed to match DataFrame index.\n",
      "\n",
      "127.0.0.1 - - [01/Sep/2022 15:13:09] \"POST /_dash-update-component HTTP/1.1\" 200 -\n",
      "127.0.0.1 - - [01/Sep/2022 15:13:09] \"POST /_dash-update-component HTTP/1.1\" 200 -\n",
      "127.0.0.1 - - [01/Sep/2022 15:13:11] \"POST /_dash-update-component HTTP/1.1\" 200 -\n",
      "127.0.0.1 - - [01/Sep/2022 15:13:11] \"POST /_dash-update-component HTTP/1.1\" 200 -\n",
      "127.0.0.1 - - [01/Sep/2022 15:13:18] \"POST /_dash-update-component HTTP/1.1\" 200 -\n"
     ]
    }
   ],
   "source": [
    "# Read the airline data into pandas dataframe\n",
    "max_payload = spacex_df['Payload Mass (kg)'].max()\n",
    "min_payload = spacex_df['Payload Mass (kg)'].min()\n",
    "\n",
    "# Create a dash application\n",
    "app = dash.Dash(__name__)\n",
    "\n",
    "# Create an app layout\n",
    "app.layout = html.Div(children=[html.H1('SpaceX Launch Records Dashboard',\n",
    "                                        style={'textAlign': 'center', 'color': '#503D36',\n",
    "                                               'font-size': 40}),\n",
    "                                # TASK 1: Add a dropdown list to enable Launch Site selection\n",
    "                                # The default select value is for ALL sites\n",
    "                                dcc.Dropdown(id='site-dropdown',\n",
    "                                    options=[\n",
    "                                        {'label': 'All Sites', 'value': 'ALL'},\n",
    "                                        {'label': spacex_df['Launch Site'].unique()[0] , 'value': spacex_df['Launch Site'].unique()[0]},\n",
    "                                        {'label': spacex_df['Launch Site'].unique()[1] , 'value': spacex_df['Launch Site'].unique()[1]},\n",
    "                                        {'label': spacex_df['Launch Site'].unique()[2] , 'value': spacex_df['Launch Site'].unique()[2]},\n",
    "                                        {'label': spacex_df['Launch Site'].unique()[3] , 'value': spacex_df['Launch Site'].unique()[3]},\n",
    "                                    ],\n",
    "                                    value='ALL',\n",
    "                                    placeholder=\"place holder here\",\n",
    "                                    searchable=True\n",
    "                                    ),\n",
    "                                html.Br(),\n",
    "\n",
    "                                # TASK 2: Add a pie chart to show the total successful launches count for all sites\n",
    "                                # If a specific launch site was selected, show the Success vs. Failed counts for the site\n",
    "                                html.Div(dcc.Graph(id='success-pie-chart')),\n",
    "                                html.Br(),\n",
    "\n",
    "                                html.P(\"Payload range (Kg):\"),\n",
    "                                # TASK 3: Add a slider to select payload range\n",
    "                                dcc.RangeSlider(id='payload-slider',                \n",
    "                                    min=0, max=10000, step=1000,\n",
    "                                    marks={0: '0',\n",
    "                                    100: '100'},\n",
    "                                    value=[1000, 10000]\n",
    "                                ),\n",
    "\n",
    "                                # TASK 4: Add a scatter chart to show the correlation between payload and launch success\n",
    "                                html.Div(dcc.Graph(id='success-payload-scatter-chart')),\n",
    "                                ])\n",
    "\n",
    "# TASK 2:\n",
    "# Add a callback function for `site-dropdown` as input, `success-pie-chart` as output\n",
    "# Function decorator to specify function input and output\n",
    "@app.callback(Output(component_id='success-pie-chart', component_property='figure'),\n",
    "              Input(component_id='site-dropdown', component_property='value'))\n",
    "def get_pie_chart(entered_site):\n",
    "    filtered_df = spacex_df[spacex_df['Launch Site']==entered_site]\n",
    "    if entered_site == 'ALL':\n",
    "        fig = px.pie(spacex_df, values='class', \n",
    "        names='Launch Site', \n",
    "        title='Total Success Launches by Site')\n",
    "        return fig\n",
    "    else:\n",
    "        fig = px.pie(filtered_df['class'].value_counts(), values='class', \n",
    "        names=['success','fail'], \n",
    "        title='Total Success Launches for Site '+ entered_site)\n",
    "        return fig\n",
    "        # return the outcomes piechart for a selected site\n",
    "# TASK 4:\n",
    "# Add a callback function for `site-dropdown` and `payload-slider` as inputs, `success-payload-scatter-chart` as output\n",
    "@app.callback(Output(component_id='success-payload-scatter-chart', component_property='figure'),\n",
    "              [Input(component_id='site-dropdown', component_property='value'), Input(component_id=\"payload-slider\", component_property=\"value\")])\n",
    "def get_scatter_chart(entered_site,slider_range):\n",
    "    low, high = slider_range\n",
    "    mask = (spacex_df['Payload Mass (kg)'] > low) & (spacex_df['Payload Mass (kg)'] < high)\n",
    "    maskedf=spacex_df[mask]\n",
    "    filtered_df = maskedf[spacex_df['Launch Site']==entered_site]\n",
    "    if entered_site == 'ALL':    \n",
    "        fig=px.scatter(maskedf,x='Payload Mass (kg)',y='class',color=\"Booster Version Category\")\n",
    "        return fig\n",
    "    else:\n",
    "        fig=px.scatter(filtered_df,x='Payload Mass (kg)',y='class',color=\"Booster Version Category\")\n",
    "        return fig\n",
    "\n",
    "# Run the app\n",
    "if __name__ == '__main__':\n",
    "    app.run_server()"
   ]
  }
 ],
 "metadata": {
  "kernelspec": {
   "display_name": "Python 3 (ipykernel)",
   "language": "python",
   "name": "python3"
  },
  "language_info": {
   "codemirror_mode": {
    "name": "ipython",
    "version": 3
   },
   "file_extension": ".py",
   "mimetype": "text/x-python",
   "name": "python",
   "nbconvert_exporter": "python",
   "pygments_lexer": "ipython3",
   "version": "3.9.7"
  }
 },
 "nbformat": 4,
 "nbformat_minor": 5
}
